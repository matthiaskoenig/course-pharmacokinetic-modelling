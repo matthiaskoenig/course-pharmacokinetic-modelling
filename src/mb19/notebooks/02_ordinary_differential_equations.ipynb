{
 "cells": [
  {
   "cell_type": "markdown",
   "metadata": {
    "editable": true,
    "slideshow": {
     "slide_type": ""
    },
    "tags": []
   },
   "source": [
    "# Ordinary Differential Equations and Numerical Integration\n",
    "\n",
    "## Introduction\n",
    "\n",
    "In pharmacokinetics, many models describing the behavior of drugs within the body are represented by ordinary differential equations (ODEs). These equations capture the dynamic changes in drug concentration over time, accounting for various processes such as absorption, distribution, metabolism, and excretion.\n",
    "\n",
    "## Background\n",
    "\n",
    "### Ordinary Differential Equations (ODEs)\n",
    "\n",
    "An ODE is an equation that involves a function and its derivatives. In pharmacokinetics, ODEs describe how the concentration of a drug changes with respect to time due to different biological processes. The simplest form of an ODE in pharmacokinetics is a first-order equation representing the rate of change of drug concentration:\n",
    "\n",
    "\\begin{equation}\n",
    "\\frac{dC(t)}{dt} = -k \\cdot C(t)\n",
    "\\end{equation}\n",
    "\n",
    "where:\n",
    "- C(t) is the concentration of the drug at time t.\n",
    "- k is the rate constant for the process being described (e.g., elimination).\n",
    "\n",
    "More complex models may involve multiple compartments and multiple rate constants, leading to systems of ODEs.\n",
    "\n",
    "### Numerical Integration\n",
    "\n",
    "In many cases, ODEs cannot be solved analytically, especially when dealing with complex pharmacokinetic models. Numerical integration techniques are employed to approximate the solutions of these equations. Methods such as Euler's method, the Runge-Kutta method, and more advanced algorithms provide approximate solutions by discretizing time and iteratively solving the equations.\n",
    "\n",
    "## Importance in Pharmacokinetics\n",
    "\n",
    "Understanding and solving ODEs is crucial in pharmacokinetics for several reasons:\n",
    "- **Modeling Drug Behavior:** Accurately predict how drugs move through different compartments of the body over time.\n",
    "- **Dose Optimization:** Determine the optimal dosing regimen to achieve therapeutic levels without causing toxicity.\n",
    "- **Predicting Drug Interactions:** Understand how multiple drugs may interact and affect each other’s pharmacokinetics.\n",
    "- **Personalized Medicine:** Tailor drug treatments based on individual patient characteristics and responses.\n",
    "\n",
    "## Applications\n",
    "\n",
    "- **One-Compartment Models:** Describing the elimination of a drug from a single compartment.\n",
    "- **Multi-Compartment Models:** Accounting for distribution between central (e.g., blood) and peripheral (e.g., tissues) compartments.\n",
    "- **Non-Linear Models:** Handling cases where drug kinetics do not follow simple linear relationships, such as saturation kinetics.\n",
    "\n",
    "## Learning Objectives\n",
    "\n",
    "By the end of this chapter, you should be able to:\n",
    "- Understand the basic principles of ODEs and their role in pharmacokinetics.\n",
    "- Apply numerical integration methods to solve pharmacokinetic equations.\n",
    "- Interpret the results of ODE models."
   ]
  },
  {
   "cell_type": "markdown",
   "metadata": {},
   "source": [
    "## Euler method\n",
    "We will mainly use ordinary differential equations of the form.\n",
    "\n",
    "\\begin{equation}\n",
    "\\frac{d\\vec{x}}{dt} = \\vec{f}(\\vec{x},\\vec{p},t)\n",
    "\\end{equation}\n",
    "\n",
    "Here $\\vec{x}$ is a vector of state variables at time $t$.\n",
    "The parameters of the system are represented\n",
    "by the vector $\\vec{p}$.\n",
    "\n",
    "In one dimension, the system is written as\n",
    "\n",
    "\\begin{equation}\n",
    "\\frac{dx}{dt} = f(x) \\quad \\mbox{with} \\quad x(t=0) := x_0\n",
    "\\end{equation}\n",
    "\n",
    "The simplest way to solve the equation numerically \n",
    "is the Euler integration\n",
    "\\begin{equation}\n",
    "f(x) = \\frac{dx}{dt} \\approx \\frac{x(t+\\Delta t) - x(t)}{\\Delta t}\n",
    "\\end{equation}\n",
    "\n",
    "We obtain\n",
    "\\begin{equation}\n",
    "x(t+\\Delta t) \\; = \\;  x(t) \\; + \\; \\Delta t \\;   f(x(t)) \\; + \\;  {\\cal O}(\\Delta t^2)\n",
    "\\end{equation}\n",
    "\n",
    "Starting from an initial value $x_0$ at time $t=0$ the solution\n",
    "can now be determined for later time points.\n",
    "\n",
    "It is of importance to consider the error of the method.\n",
    "The Euler method introduces an error of ${\\cal O}(\\Delta t^2)$ per\n",
    "integration step.\n",
    "To obtain the solution $x(t)$ at a time $t=T$, $N=T/\\Delta t$ integration steps\n",
    "have to be performed. \n",
    "The total error is therefore of the order ${\\cal O}(T \\Delta t)$ \n",
    "and decreases with decreasing $\\Delta t$.\n",
    "Euler integration is a first-order method.\n",
    "The method is rarely used in real life (too inefficient).\n",
    "\n",
    "**The Euler Method**\n",
    "\\begin{equation}\n",
    "\\frac{dC}{dt} = f(C) = - \\frac{CL}{V} C \\quad \\mbox{with} \\quad C(0) = \\frac{DOSE}{V}\n",
    "\\end{equation}\n",
    "\n",
    "\n",
    "The analytical solution at time $t$ is \n",
    "\\begin{equation}\n",
    "C(t) = \\frac{DOSE}{V} \\exp(-\\frac{CL}{V} t)\n",
    "\\end{equation}\n",
    "\n",
    "An initial value is needed for this process. Computational errors are minimized by keeping the time increments very small. There has been extensive development of algorithms to solve dif- ferential equations numerically, and in most contexts the dif- ference between an analytical solution and the approximate numerical solution is inconsequential. However, solving a system of equations is computationally intensive and, even with automated, rapid processors, there is a time penalty for using differential equations to describe a model."
   ]
  },
  {
   "cell_type": "markdown",
   "metadata": {},
   "source": [
    "We now write a simple function that compares the numerical integration \n",
    "of the simple system with the (known) analytical solution. "
   ]
  },
  {
   "cell_type": "code",
   "execution_count": 1,
   "metadata": {},
   "outputs": [],
   "source": [
    "import numpy as np\n",
    "import matplotlib.pyplot as plt\n",
    "\n",
    "def simple_euler(C0, tend, N, CL, V):\n",
    "    \"\"\" The function integrates the simple\n",
    "    system dx/dt = -k x to a time tend using the  \n",
    "    Euler method (N Steps) and initial condition x0.\n",
    "\n",
    "    usage: C = simple_euler(C0, t, N)\n",
    "    \"\"\"\n",
    "    k = 1 # set parameter k\n",
    "\n",
    "    # some parameters\n",
    "    dt = float(tend)/N\n",
    "    timespan = np.arange(0, tend, dt)\n",
    "    C = [float(C0)]\n",
    "\n",
    "    # integration\n",
    "    for i in range(1, N):\n",
    "        # C(t) + dt * f\n",
    "        C.append(C[i-1] + dt*(-CL/V*C[i-1]))\n",
    "        \n",
    "    # plot both solutions\n",
    "    f, ax = plt.subplots(nrows=1, ncols=1)\n",
    "    ax.plot(timespan, C,'ko', markersize=8, label='Euler method')\n",
    "    ax.plot(timespan, C0*np.exp(-CL/V*timespan), 'r-', label='analytical solution')\n",
    "    ax.set_xlabel('time t [hr]')\n",
    "    ax.set_ylabel('C(t) [mg]')\n",
    "    ax.legend(loc='upper right')\n",
    "    plt.show()\n",
    "\n",
    "    # return value of function\n",
    "    cend = C[N-1]\n",
    "\n",
    "    return cend, dt"
   ]
  },
  {
   "cell_type": "code",
   "execution_count": 2,
   "metadata": {},
   "outputs": [
    {
     "data": {
      "image/png": "[encoded data removed]",
      "text/plain": [
       "<Figure size 640x480 with 1 Axes>"
      ]
     },
     "metadata": {},
     "output_type": "display_data"
    },
    {
     "data": {
      "text/plain": [
       "(0.7311615999999999, 48.0)"
      ]
     },
     "execution_count": 2,
     "metadata": {},
     "output_type": "execute_result"
    }
   ],
   "source": [
    "V = 10  # [l]\n",
    "CL = 0.1  # [l/hr]\n",
    "DOSE = 100  # [mg]\n",
    "C0 = DOSE/V\n",
    "\n",
    "simple_euler(C0=C0, tend=24*10, N=5, CL=CL, V=V)"
   ]
  },
  {
   "cell_type": "markdown",
   "metadata": {
    "editable": true,
    "slideshow": {
     "slide_type": ""
    },
    "tags": []
   },
   "source": [
    "**Exercise:** We do know the true value $x(t=1)$ using an analytical solution. Compare the numerical estimates for different values of `N` and plot the error as a function of `1/N`. \n",
    "What does `N` stand for? How does the graph look like? Why?"
   ]
  },
  {
   "cell_type": "markdown",
   "metadata": {},
   "source": [
    "# Numerical Integration in Python\n",
    "\n",
    "The module `scipy.integrate` offers a variety of built-in functions for numerical integration. In this section, we will primarily use the function `odeint` to solve ordinary differential equations.\n",
    "\n",
    "## Example: Simple ODE\n",
    "\n",
    "We consider a simple ODE of the form:\n",
    "\n",
    "\\begin{equation}\n",
    "\\frac{dC}{dt} = - \\frac{CL}{V} \\cdot C\n",
    "\\end{equation}\n",
    "\n",
    "with the initial condition:\n",
    "\n",
    "\\begin{equation}\n",
    "C(0) = \\frac{Dose}{V}\n",
    "\\end{equation}\n",
    "\n",
    "where CL (clearance) and V (volume of distribution) are parameters.\n",
    "\n",
    "To solve this system numerically, we need to define the function representing the ODE. In this case, the function f(C, t) is:\n",
    "\n",
    "\\begin{equation}\n",
    "f(C, t) = - \\frac{CL}{V} \\cdot C\n",
    "\\end{equation}\n",
    "\n",
    "This is implemented in a user-defined function in Python.\n",
    "\n",
    "## Understanding the Differential Equation\n",
    "\n",
    "A differential equation describes the rate of change of a variable. In this example, $\\frac{dC}{dt}$ represents the rate of change of drug concentration C with respect to time t. This rate of change is sometimes abbreviated as C'. \n",
    "\n",
    "To solve a differential equation numerically, we must specify the initial value of the dependent variable. Here, the initial concentration C at time zero (C0) is given by:\n",
    "\n",
    "\\begin{equation}\n",
    "C(0) = \\frac{Dose}{V}\n",
    "\\end{equation}\n",
    "\n",
    "Numerical methods, such as those provided by `scipy.integrate.odeint`, are used to solve systems of differential equations where analytical solutions may not be feasible."
   ]
  },
  {
   "cell_type": "code",
   "execution_count": 3,
   "metadata": {},
   "outputs": [],
   "source": [
    "from scipy.integrate import odeint\n",
    "\n",
    "def simple_ode(C, t, CL, V):\n",
    "    \"\"\"\n",
    "    The function implements the simple linear\n",
    "    ODE dCdt = -CL/V * C\n",
    "    \"\"\"\n",
    "\n",
    "    dCdt = - CL/V *C\n",
    "\n",
    "    return dCdt "
   ]
  },
  {
   "cell_type": "markdown",
   "metadata": {},
   "source": [
    "To integrate the system numerically, we use `odeint`:"
   ]
  },
  {
   "cell_type": "code",
   "execution_count": 4,
   "metadata": {
    "editable": true,
    "slideshow": {
     "slide_type": ""
    },
    "tags": []
   },
   "outputs": [
    {
     "data": {
      "image/png": "[encoded data removed]",
      "text/plain": [
       "<Figure size 640x480 with 1 Axes>"
      ]
     },
     "metadata": {},
     "output_type": "display_data"
    }
   ],
   "source": [
    "from scipy.integrate import odeint\n",
    "import numpy as np\n",
    "\n",
    "# parameters\n",
    "V = 10  # [l]\n",
    "CL = 0.1  # [l/hr]\n",
    "DOSE = 100  # [mg]\n",
    "\n",
    "\n",
    "# initial condition and time span\n",
    "t = np.arange(0, 240, 0.1)  # [hr]\n",
    "C0 = DOSE/V\n",
    "\n",
    "C = odeint(simple_ode, C0, t, args=(CL, V))\n",
    "f, ax = plt.subplots(nrows=1, ncols=1)\n",
    "ax.set_xlabel('time t [hr]')\n",
    "ax.set_ylabel('C(t) [mg]')\n",
    "ax.plot(t, C, linewidth=2)\n",
    "plt.show()"
   ]
  },
  {
   "cell_type": "markdown",
   "metadata": {
    "editable": true,
    "slideshow": {
     "slide_type": ""
    },
    "tags": []
   },
   "source": [
    "## Insights and What We Learned\n",
    "\n",
    "- **Defining the ODE:** We learned how to define a differential equation representing the pharmacokinetics of a drug. This involves identifying the parameters and the rate of change of the drug concentration.\n",
    "  \n",
    "- **Initial Conditions:** We understood the importance of initial conditions in solving differential equations. The initial concentration is determined by the dose and volume of distribution.\n",
    "  \n",
    "- **Numerical Integration:** We explored how to use numerical methods, specifically the `odeint` function from the `scipy.integrate` module, to solve ODEs when analytical solutions are not practical.\n",
    "  \n",
    "- **Interpreting Results:** By plotting the concentration-time profile, we can visually analyze how the drug concentration changes over time, providing insights into the drug's pharmacokinetics.\n",
    "\n",
    "These skills are fundamental in pharmacokinetic modeling, allowing us to simulate and predict drug behavior under various conditions. This knowledge is crucial for optimizing drug dosing regimens, improving therapeutic efficacy, and minimizing adverse effects."
   ]
  }
 ],
 "metadata": {
  "authors": [
   {
    "name": "Matthias König, https://livermetabolism.com"
   }
  ],
  "kernelspec": {
   "display_name": "pkmodels",
   "language": "python",
   "name": "pkmodels"
  },
  "language_info": {
   "codemirror_mode": {
    "name": "ipython",
    "version": 3
   },
   "file_extension": ".py",
   "mimetype": "text/x-python",
   "name": "python",
   "nbconvert_exporter": "python",
   "pygments_lexer": "ipython3",
   "version": "3.12.3"
  },
  "title": "PK course: 2 Ordinary Differential Equations"
 },
 "nbformat": 4,
 "nbformat_minor": 4
}
