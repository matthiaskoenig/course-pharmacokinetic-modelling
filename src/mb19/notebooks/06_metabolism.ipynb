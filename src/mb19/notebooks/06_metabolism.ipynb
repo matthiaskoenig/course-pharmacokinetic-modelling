{
 "cells": [
  {
   "cell_type": "markdown",
   "id": "5c185e85",
   "metadata": {},
   "source": [
    "# Metabolization\n",
    "\n",
    "In pharmacokinetics and enzymology, the rate at which reactions occur is crucial. Different mathematical models are used to describe these rates, with some of the most common being the Mass-Action model, the Michaelis-Menten model, and the Hill equation. Here's a brief summary of each:\n",
    "\n",
    "**1. Mass-Action Model**: This model is one of the simplest and is based on the principle that the rate of a reaction is directly proportional to the concentration of the reacting substances. For a reaction A + B → C, the rate would be expressed as Rate = k[A][B], where k is the rate constant, and [A] and [B] are the concentrations of A and B.\n",
    "\n",
    "**2. Michaelis-Menten Model**: This model is used to describe enzyme-catalyzed reactions, particularly when enzyme concentrations are much lower than substrate concentrations. The rate of reaction (v) is given by the equation v = Vmax[S]/(Km + [S]), where Vmax is the maximum rate, [S] is the substrate concentration, and Km is the Michaelis constant (the substrate concentration at which the reaction rate is half of Vmax). \n",
    "\n",
    "**3. Hill Equation**: This model is often used when there is cooperativity or interaction between multiple binding sites on a molecule (like a protein or enzyme). The equation is given by v = Vmax[S]^n/(Kd + [S]^n), where n is the Hill coefficient representing the degree of cooperativity.\n",
    "\n",
    "For both the Michaelis-Menten model and Hill equation, values of Vmax, Km, and Kd are usually determined experimentally.\n",
    "\n",
    "\n",
    "## Inhibition and activition\n",
    "Inhibition and activation also play crucial roles in metabolic models:\n",
    "\n",
    "**Inhibition**: This occurs when a molecule binds to an enzyme and decreases its activity. Inhibitors can be competitive (bind to the active site and compete with the substrate), non-competitive (bind to a separate site and change the enzyme's shape), or uncompetitive (bind to the enzyme-substrate complex). Each type of inhibition changes the parameters (Vmax, Km) in distinctive ways.\n",
    "\n",
    "**Activation**: This is when a molecule binds to an enzyme and increases its activity. This can lead to an increase in the maximum reaction rate (Vmax) or a decrease in the Km value, indicating an increased affinity of the enzyme for its substrate.\n",
    "\n",
    "In summary, these models and concepts help scientists understand and predict the behavior of enzymes and other biochemical reactions, which is crucial in fields like drug design and metabolic engineering."
   ]
  },
  {
   "cell_type": "markdown",
   "id": "2b7d6803",
   "metadata": {},
   "source": [
    "## Rate equations\n",
    "\n",
    "### Mass-Action Model\n",
    "This model is one of the simplest and is based on the principle that the rate of a reaction is directly proportional to the concentration of the reacting substances. For a reaction A + B → C, the rate would be expressed as\n",
    "\n",
    "\\begin{equation}\n",
    "v = k \\cdot A \\cdot B\n",
    "\\end{equation}\n",
    "\n",
    "where k is the rate constant, and A and B are the concentrations of A and B.\n",
    "\n",
    "In case of reaction A → B, the rate would be expressed as\n",
    "\n",
    "\\begin{equation}\n",
    "v = k \\cdot A\n",
    "\\end{equation}"
   ]
  },
  {
   "cell_type": "code",
   "execution_count": null,
   "id": "10c8f372",
   "metadata": {},
   "outputs": [],
   "source": [
    "import numpy as np\n",
    "from matplotlib import pyplot as plt\n",
    "\n",
    "k = 1.0\n",
    "A = np.linspace(0, 10, num=100)  # [mM]\n",
    "v = k * A\n",
    "\n",
    "f, ax = plt.subplots(nrows=1, ncols=1)\n",
    "f.suptitle(\"Mass Action Kinetics\")\n",
    "ax.plot(A, v)\n",
    "ax.set_xlabel(\"Concentration A [mM]\")\n",
    "ax.set_ylabel(\"Rate v\")\n",
    "plt.show()"
   ]
  },
  {
   "cell_type": "markdown",
   "id": "d8a323eb",
   "metadata": {},
   "source": [
    "**Exercise**: Plot the dependency of the rate v on the rate constant k. I.e. perform a parameter scan and show the rate curves for different k values."
   ]
  },
  {
   "cell_type": "markdown",
   "id": "00bee027",
   "metadata": {},
   "source": [
    "### Michaelis-Menten Model\n",
    "This model is used to describe enzyme-catalyzed reactions, particularly when enzyme concentrations are much lower than substrate concentrations. The rate of reaction (v) is given by the equation \n",
    "\n",
    "\\begin{equation}\n",
    "v = \\frac{Vmax \\cdot A}{Km + A}\n",
    "\\end{equation}\n",
    "\n",
    ", where Vmax is the maximum rate, A is the substrate concentration, and Km is the Michaelis constant (the substrate concentration at which the reaction rate is half of Vmax)."
   ]
  },
  {
   "cell_type": "code",
   "execution_count": null,
   "id": "21219ced",
   "metadata": {},
   "outputs": [],
   "source": [
    "import numpy as np\n",
    "from matplotlib import pyplot as plt\n",
    "\n",
    "Km = 1.0  # [mM]\n",
    "Vmax = 10\n",
    "A = np.linspace(0, 10, num=100)  # [mM]\n",
    "v = Vmax * A/(Km + A)\n",
    "\n",
    "f, ax = plt.subplots(nrows=1, ncols=1)\n",
    "f.suptitle(\"Michaelis Menten Kinetics\")\n",
    "ax.plot(A, v)\n",
    "ax.set_xlabel(\"Concentration A [mM]\")\n",
    "ax.set_ylabel(\"Rate v\")\n",
    "plt.show()"
   ]
  },
  {
   "cell_type": "markdown",
   "id": "50a9dd8c",
   "metadata": {},
   "source": [
    "**Exercise**: Plot the dependency of the rate v on the parameters Km and Vmax. I.e. perform a parameter scan and show the curves for different Km and Vmax values."
   ]
  },
  {
   "cell_type": "markdown",
   "id": "ef24e058",
   "metadata": {},
   "source": [
    "### Hill Equation\n",
    "This model is often used when there is cooperativity or interaction between multiple binding sites on a molecule (like a protein or enzyme). The equation is given by \n",
    "\n",
    "\\begin{equation}\n",
    "v = \\frac{Vmax \\cdot A^n}{Kd^n + A^n}\n",
    "\\end{equation}\n",
    "\n",
    ", where n is the Hill coefficient representing the degree of cooperativity."
   ]
  },
  {
   "cell_type": "code",
   "execution_count": null,
   "id": "f5a92832",
   "metadata": {},
   "outputs": [],
   "source": [
    "import numpy as np\n",
    "from matplotlib import pyplot as plt\n",
    "\n",
    "Km = 1.0  # [mM]\n",
    "Vmax = 10\n",
    "n = 3\n",
    "A = np.linspace(0, 10, num=100)  # [mM]\n",
    "v = Vmax * A**n/(Km**n + A**n)\n",
    "\n",
    "f, ax = plt.subplots(nrows=1, ncols=1)\n",
    "f.suptitle(\"Hill Kinetics\")\n",
    "ax.plot(A, v)\n",
    "ax.set_xlabel(\"Concentration A [mM]\")\n",
    "ax.set_ylabel(\"Rate v\")\n",
    "plt.show()"
   ]
  },
  {
   "cell_type": "markdown",
   "id": "c0319545",
   "metadata": {},
   "source": [
    "Exercise: Plot the dependency of the rate v on the parameters Km and n. I.e. perform a parameter scan and show the curves for different Km and n values."
   ]
  },
  {
   "cell_type": "markdown",
   "id": "c668edb7",
   "metadata": {},
   "source": [
    "### Inhibition \n",
    "A simple competitive inhibition term for a rate equation is\n",
    "\n",
    "\\begin{equation}\n",
    "(\\frac{1}{Ki + I})\n",
    "\\end{equation}\n",
    "\n",
    "with Ki being the inhibition constant and I being the concentration of the inhibitor."
   ]
  },
  {
   "cell_type": "markdown",
   "id": "55c0aed2",
   "metadata": {},
   "source": [
    "# Pathway model of metabolism\n",
    "\n",
    "Our next step are simple metabolic networks. The basic ingredients for model construction are the stoichiometry, the rate equations, and the parameters.\n",
    "\n",
    "We start with a simple linear chain,\n",
    "\n",
    "\\begin{equation}\n",
    "X \\longrightarrow S_1 \\longrightarrow S_2 \\longrightarrow S_3  \\longrightarrow Y \n",
    "\\end{equation}\n",
    "\n",
    "and irreversible Michaelis-Menten equations\n",
    "\n",
    "\\begin{equation}\n",
    "v_i = \\frac{V_\\mathrm{max} S_i}{K_M + S_i}\n",
    "\\end{equation}\n",
    "\n",
    "The external metabolites $X$ and $Y$ are like (constant) parameters. The concentration of $X$ is included into the (constant) influx value. \n",
    "\n",
    "The python function might look like this:"
   ]
  },
  {
   "cell_type": "code",
   "execution_count": null,
   "id": "3527427e",
   "metadata": {},
   "outputs": [],
   "source": [
    "def LinearChain(S,t):\n",
    "    \"\"\" Implements the simple linear chain with irreversible MM kinetics. \"\"\"\n",
    "\n",
    "    # define metabolites\n",
    "    S1 = S[0]\n",
    "    S2 = S[1]\n",
    "    S3 = S[2]\n",
    "\n",
    "    # define parameters\n",
    "    influx = 1.0\n",
    "    Km1 = 1.0; Vm1 = 2.0\n",
    "    Km2 = 1.0; Vm2 = 3.0\n",
    "    Km3 = 1.0; Vm3 = 4.0\n",
    "\n",
    "    # define rate functions\n",
    "    v0 = influx # constant\n",
    "    v1 = Vm1*S1/(Km1+S1)\n",
    "    v2 = Vm2*S2/(Km2+S2)\n",
    "    v3 = Vm3*S3/(Km3+S3)\n",
    "\n",
    "    # define stoichiometry\n",
    "    dS1dt = +v0 - v1\n",
    "    dS2dt = +v1 - v2\n",
    "    dS3dt = +v2 - v3\n",
    "\n",
    "    return [dS1dt, dS2dt, dS3dt]"
   ]
  },
  {
   "cell_type": "markdown",
   "id": "417a3299",
   "metadata": {},
   "source": [
    "To integrate the pathway, we use `odeint`:"
   ]
  },
  {
   "cell_type": "code",
   "execution_count": null,
   "id": "76b47ba6",
   "metadata": {},
   "outputs": [],
   "source": [
    "import numpy as np\n",
    "from scipy.integrate import odeint\n",
    "from matplotlib import pyplot as plt\n",
    "\n",
    "T = np.arange(0,20,0.01)\n",
    "S0 = [0, 0, 0]\n",
    "\n",
    "S = odeint(LinearChain,S0,T)\n",
    "plt.plot(T,S)\n",
    "plt.legend(['S1','S2','S3'])\n",
    "plt.xlabel('time t')\n",
    "plt.ylabel('concentrations S')\n",
    "plt.show()"
   ]
  },
  {
   "cell_type": "markdown",
   "id": "f3730dfa",
   "metadata": {},
   "source": [
    "**Exercise:** Implement the system using mass action kinetics instead of Michaelis-Menten Kinetics\n",
    "\n",
    "**Exercise:** Add an inhibition term to v1 via S3 (inhibition via pathway product)"
   ]
  }
 ],
 "metadata": {
  "kernelspec": {
   "display_name": "mb19",
   "language": "python",
   "name": "mb19"
  },
  "language_info": {
   "codemirror_mode": {
    "name": "ipython",
    "version": 3
   },
   "file_extension": ".py",
   "mimetype": "text/x-python",
   "name": "python",
   "nbconvert_exporter": "python",
   "pygments_lexer": "ipython3",
   "version": "3.10.12"
  }
 },
 "nbformat": 4,
 "nbformat_minor": 5
}
