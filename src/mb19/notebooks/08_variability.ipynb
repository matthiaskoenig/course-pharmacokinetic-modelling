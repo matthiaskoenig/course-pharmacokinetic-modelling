{
 "cells": [
  {
   "cell_type": "markdown",
   "id": "8be9e0db",
   "metadata": {},
   "source": [
    "# Variability in pharmacokinetics\n",
    "Pharmacokinetics is the study of how a drug moves through the body. The four primary aspects of pharmacokinetics are absorption, distribution, metabolism, and excretion (ADME). Pharmacokinetic variability refers to the differences in drug response among individuals due to various factors. Here are some key points about the factors that result in pharmacokinetic variability:\n",
    "\n",
    "1. **Variability in Protein Amounts of Transporters and Proteins**: Proteins play a critical role in drug transportation and metabolism. Some proteins help to transport drugs across cell membranes, while others metabolize drugs in the body. The expression level and activity of these proteins can vary significantly among individuals due to genetic factors, disease states, or interaction with other substances, leading to variability in drug response. For example, changes in the activity of cytochrome P450 enzymes, a group of enzymes responsible for drug metabolism, can significantly impact the pharmacokinetics of a drug.\n",
    "\n",
    "2. **Pharmacogenomic Variants**: Pharmacogenomics is the study of how an individual's genetic makeup affects their response to drugs. Variations in genes can significantly influence drug response by affecting the function of drug-metabolizing enzymes, drug transporters, and drug targets. For instance, certain genetic variants can cause a drug-metabolizing enzyme to metabolize a drug more slowly or more quickly, leading to changes in drug efficacy and toxicity.\n",
    "\n",
    "3. **Physiological Factors**: Age, sex, body weight, organ function, and health status can significantly influence drug pharmacokinetics. For example, the elderly typically have decreased organ function and altered body composition, which can affect drug metabolism and distribution. Also, women and men may metabolize certain drugs differently due to differences in body composition and hormonal levels. Furthermore, diseases such as kidney or liver diseases can significantly affect drug metabolism and elimination, leading to changes in drug response.\n",
    "\n",
    "4. **Environmental Factors**: Factors like diet, alcohol intake, smoking, and exposure to environmental toxins can also impact drug metabolism and drug response. For instance, grapefruit juice can inhibit the action of certain drug-metabolizing enzymes, leading to increased drug levels in the body.\n",
    "\n",
    "5. **Drug-Drug Interactions**: Some drugs can affect the pharmacokinetics of other drugs by interacting with the same drug-metabolizing enzymes or transporters. For instance, one drug can inhibit the metabolism of another drug, leading to increased levels of the second drug in the body.\n",
    "\n",
    "6. **Patient Compliance**: How well a patient adheres to their medication regimen can also influence drug response. Missed doses, incorrect timing, or improper administration can all impact the pharmacokinetics of a drug.\n",
    "\n",
    "Understanding these factors is critical in personalized medicine, as it allows for the optimization of drug therapy based on an individual's unique characteristics, leading to improved drug efficacy and reduced adverse effects."
   ]
  },
  {
   "cell_type": "markdown",
   "id": "af142d72",
   "metadata": {},
   "source": [
    "## Variability in Protein Amounts of Transporters and Proteins\n",
    "A large part of the variability in drug metabolism within the population is due to individual protein amounts.\n",
    "\n",
    "![Protein variability](08_variability_proteins.png)\n",
    "\n",
    "\n",
    "\n",
    "- example of protein distributions (simple system with variability in CYP1A2)\n",
    "\n",
    "\n",
    "\n",
    "Here we assume a distribution in proteins relevant for the elimination of the test compound\n",
    "\n"
   ]
  },
  {
   "cell_type": "markdown",
   "id": "544b7295",
   "metadata": {},
   "source": [
    "![Absorption Elimination Model](04_simple_absorption.png)"
   ]
  },
  {
   "cell_type": "code",
   "execution_count": null,
   "id": "d4d91508",
   "metadata": {},
   "outputs": [],
   "source": []
  },
  {
   "cell_type": "markdown",
   "id": "acc703da",
   "metadata": {},
   "source": [
    "## Stratification\n",
    "Often these distributions are different for different subsets of the population.\n",
    "\n",
    "Compare the distribution of pharmacokinetic parameters."
   ]
  },
  {
   "cell_type": "markdown",
   "id": "dd8efc70",
   "metadata": {},
   "source": [
    "## Achieving therapeutic range for a population\n",
    "Achieving the therapeutic range in a population is much more difficult. See what you can do"
   ]
  },
  {
   "cell_type": "markdown",
   "id": "109acaee",
   "metadata": {},
   "source": [
    "## Pharmacogenetic Variants\n",
    "Pharmacogenomics is the study of how an individual's genetic makeup influences their response to drugs. This field combines pharmacology (the science of drugs) and genomics (the study of genes and their functions) to develop effective, safe medications and doses that will be tailored to a person's genetic makeup.\n",
    "\n",
    "Pharmacogenomics is a part of the broader field of personalized medicine, which aims to tailor medical treatment to the individual characteristics of each patient.\n",
    "\n",
    "With respect to pharmacokinetics (the study of how the body absorbs, distributes, metabolizes, and excretes drugs), pharmacogenomics can provide valuable insights. For instance:\n",
    "\n",
    "1. **Absorption and Distribution:** Genetic differences can affect the expression and function of proteins involved in drug transport across cell membranes, influencing how quickly and effectively a drug is absorbed or distributed within the body.\n",
    "\n",
    "2. **Metabolism:** A key aspect of pharmacokinetics is understanding how drugs are metabolized, primarily by enzymes in the liver. Individual genetic variations can affect the activity of these enzymes, leading to differences in how quickly a drug is metabolized. For example, some individuals may have genetic variations that cause certain enzymes to be overly active (\"ultra-metabolizers\") or underactive (\"poor metabolizers\"). This can significantly impact the concentration of drug in the body and therefore its efficacy and potential for side effects.\n",
    "\n",
    "3. **Excretion:** Variations in genes can also impact the function of proteins involved in the excretion of drugs, primarily in the kidneys, affecting the rate at which a drug is removed from the body.\n",
    "\n",
    "By understanding an individual's pharmacogenomic profile, healthcare providers can better predict how a patient will respond to a particular drug, informing decisions about which drug to prescribe and at what dose. This can improve drug efficacy, reduce the risk of adverse effects, and contribute to more efficient and safer healthcare. However, it's important to note that while pharmacogenomics holds great promise, its application in routine clinical practice is currently limited, though it's an area of active research and development.\n",
    "\n",
    "- Pharmacogenomic Variants of SLC0B11 ...\n",
    "- Provide table with variants and activity; simulate additional variants; 2 alleles & effect of multiple copies\n",
    "- Combination with variability"
   ]
  },
  {
   "cell_type": "markdown",
   "id": "5049cbc3",
   "metadata": {},
   "source": [
    "The following defines the activity of the allels of the SLCO1B1 transporter.\n",
    "We focus on the subset of important genetic variants `*1a`, `*1b`, `*15` and possible combinations"
   ]
  },
  {
   "cell_type": "code",
   "execution_count": 2,
   "id": "5956870a",
   "metadata": {},
   "outputs": [],
   "source": [
    "# SLCO1B1\n",
    "# f_sclo1b1\n",
    "f_wildtype = 1.0  # *1a wildtype activity\n",
    "f_increase = 1.1  # *1b has slightly increased activity\n",
    "f_decrease = 0.5  # all variants with the 521T/C mutant have strongly reduced activity, e.g., *15\n",
    "\n",
    "slco1b1_activity = {\n",
    "    # strong increase (dark blue)\n",
    "    \"*1b/*1b\": (f_increase + f_increase) / 2,\n",
    "    \n",
    "    # mild increase (light blue)\n",
    "    \"*1a/*1b\": (f_wildtype + f_increase) / 2,\n",
    "    \n",
    "    # wildtype (black)\n",
    "    \"*1a/*1a\": (f_wildtype + f_wildtype)/2,\n",
    "    \n",
    "    # minor decrease (orange)\n",
    "    \"*1b/*15\": (f_increase + f_decrease) / 2,\n",
    "    \n",
    "    # mild decrease (red)\n",
    "    \"*1a/*15\": (f_wildtype + f_decrease) / 2,\n",
    "\n",
    "    # strong decrease (dark red)\n",
    "    \"*15/*15\": (f_decrease + f_decrease) / 2,\n",
    "}\n",
    "slco1b1_color = {\n",
    "        \"*1b/*1b\": \"blue\",\n",
    "        \"*1a/*1b\": \"tab:blue\",\n",
    "        \"*1a/*1a\": \"black\",\n",
    "        \"*1b/*15\": \"tab:orange\",\n",
    "        \"*1a/*15\": \"tab:red\",\n",
    "        \"*15/*15\": \"red\",\n",
    "}"
   ]
  },
  {
   "cell_type": "markdown",
   "id": "9af9d5a3",
   "metadata": {},
   "source": [
    "![Absorption Elimination Model](04_simple_absorption.png)"
   ]
  },
  {
   "cell_type": "code",
   "execution_count": 3,
   "id": "066a3595",
   "metadata": {},
   "outputs": [],
   "source": [
    "import numpy as np\n",
    "import pandas as pd\n",
    "from scipy.integrate import odeint\n",
    "from matplotlib import pylab as plt\n",
    "\n",
    "from helpers import f_pk, dxdt_absorption_first_order\n",
    "\n",
    "# initial condition and time span\n",
    "t = np.arange(0, 10, 0.05) # [hr]\n",
    "Dose_A = 10.0  # [mg]\n",
    "x0 = [\n",
    "    Dose_A,  # A_tablet  [mg]\n",
    "    0.0,   # A_central [mg]\n",
    "    0.0,   # A_urine [mg]\n",
    "]\n",
    "\n",
    "# parameters\n",
    "ka = 2.0  # [1/hr]\n",
    "ke = 5.0  # [1/hr]\n",
    "\n",
    "# simulate all genetic variants\n",
    "tcs = []\n",
    "pks = []\n",
    "\n",
    "for variant, f_activity in slco1b1_activity.items():\n",
    "    \n",
    "    # the genetic variants effect the elimination/transport rate\n",
    "    ke_variant = f_activity * ke \n",
    "    x = odeint(dxdt_absorption_first_order, x0, t, args=(ka, ke_variant))\n",
    "    df = pd.DataFrame(x, columns=[\"A_tablet\", \"A_central\", \"A_urine\"])\n",
    "    df[\"time\"] = t\n",
    "    tcs.append(df)\n",
    "    \n",
    "    # calculate pharmacokinetics parameters on the curves\n",
    "    pk = f_pk(t=df.time.values, c=df.A_central.values, dose=Dose_A, show=False)\n",
    "    pks.append(pk)\n",
    "\n",
    "    \n",
    "# plot timecourse\n",
    "f, ax = plt.subplots(nrows=1, ncols=1)    \n",
    "f.suptitle(\"Pharmacogenomic effects of SLCO1B1\")\n",
    "ax.set_xlabel(\"time [hr]\")\n",
    "ax.set_ylabel(\"amount [mg]\")\n",
    "\n",
    "for k, variant in enumerate(slco1b1_activity):\n",
    "    color = slco1b1_color[variant]\n",
    "    tc = tcs[k]\n",
    "    ax.plot(tc.time, tc.A_central, linewidth=2, color=color, label=variant)\n",
    "\n",
    "ax.legend()\n",
    "plt.show()\n",
    "\n",
    "# plot AUC\n",
    "f, ax = plt.subplots(nrows=1, ncols=1)\n",
    "f.suptitle(\"AUC dependency\")\n",
    "\n",
    "aucs = [pk[\"auc\"] for pk in pks]\n",
    "variants = list(slco1b1_activity.keys())\n",
    "colors = [slco1b1_color[v] for v in variants]\n",
    "\n",
    "ax.bar(\n",
    "    x=range(len(aucs)), height=aucs, \n",
    "    color=colors, \n",
    "    tick_label=variants\n",
    ")\n",
    "ax.set_xlabel(\"variant\")\n",
    "ax.set_ylabel(\"AUC\")\n",
    "\n",
    "\n",
    "plt.show()"
   ]
  },
  {
   "cell_type": "markdown",
   "id": "d30af623",
   "metadata": {},
   "source": [
    "**Exercise 1**: Study the effect of the genetic variants on other pharmacokinetic parameters such as CL, thalf, ...\n",
    "\n",
    "**Exercise 2**: Add an additional newly discovered variant `*f` to the analysis which has 2.0 activity compared to the wildtype variant."
   ]
  }
 ],
 "metadata": {
  "kernelspec": {
   "display_name": "mb19",
   "language": "python",
   "name": "mb19"
  },
  "language_info": {
   "codemirror_mode": {
    "name": "ipython",
    "version": 3
   },
   "file_extension": ".py",
   "mimetype": "text/x-python",
   "name": "python",
   "nbconvert_exporter": "python",
   "pygments_lexer": "ipython3",
   "version": "3.10.11"
  }
 },
 "nbformat": 4,
 "nbformat_minor": 5
}
