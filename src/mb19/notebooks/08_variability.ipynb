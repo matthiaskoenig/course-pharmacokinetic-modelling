{
 "cells": [
  {
   "cell_type": "markdown",
   "id": "8be9e0db",
   "metadata": {},
   "source": [
    "# Variability in pharmacokinetics\n",
    "Pharmacokinetics is the study of how a drug moves through the body. The four primary aspects of pharmacokinetics are absorption, distribution, metabolism, and excretion (ADME). Pharmacokinetic variability refers to the differences in drug response among individuals due to various factors. Here are some key points about the factors that result in pharmacokinetic variability:\n",
    "\n",
    "1. **Variability in Protein Amounts of Transporters and Proteins**: Proteins play a critical role in drug transportation and metabolism. Some proteins help to transport drugs across cell membranes, while others metabolize drugs in the body. The expression level and activity of these proteins can vary significantly among individuals due to genetic factors, disease states, or interaction with other substances, leading to variability in drug response. For example, changes in the activity of cytochrome P450 enzymes, a group of enzymes responsible for drug metabolism, can significantly impact the pharmacokinetics of a drug.\n",
    "\n",
    "2. **Pharmacogenomic Variants**: Pharmacogenomics is the study of how an individual's genetic makeup affects their response to drugs. Variations in genes can significantly influence drug response by affecting the function of drug-metabolizing enzymes, drug transporters, and drug targets. For instance, certain genetic variants can cause a drug-metabolizing enzyme to metabolize a drug more slowly or more quickly, leading to changes in drug efficacy and toxicity.\n",
    "\n",
    "3. **Physiological Factors**: Age, sex, body weight, organ function, and health status can significantly influence drug pharmacokinetics. For example, the elderly typically have decreased organ function and altered body composition, which can affect drug metabolism and distribution. Also, women and men may metabolize certain drugs differently due to differences in body composition and hormonal levels. Furthermore, diseases such as kidney or liver diseases can significantly affect drug metabolism and elimination, leading to changes in drug response.\n",
    "\n",
    "4. **Environmental Factors**: Factors like diet, alcohol intake, smoking, and exposure to environmental toxins can also impact drug metabolism and drug response. For instance, grapefruit juice can inhibit the action of certain drug-metabolizing enzymes, leading to increased drug levels in the body.\n",
    "\n",
    "5. **Drug-Drug Interactions**: Some drugs can affect the pharmacokinetics of other drugs by interacting with the same drug-metabolizing enzymes or transporters. For instance, one drug can inhibit the metabolism of another drug, leading to increased levels of the second drug in the body.\n",
    "\n",
    "6. **Patient Compliance**: How well a patient adheres to their medication regimen can also influence drug response. Missed doses, incorrect timing, or improper administration can all impact the pharmacokinetics of a drug.\n",
    "\n",
    "Understanding these factors is critical in personalized medicine, as it allows for the optimization of drug therapy based on an individual's unique characteristics, leading to improved drug efficacy and reduced adverse effects."
   ]
  },
  {
   "cell_type": "markdown",
   "id": "af142d72",
   "metadata": {},
   "source": [
    "## Variability in Protein Amounts of Transporters and Proteins\n",
    "- example of protein distributions (simple system with variability in CYP1A2)"
   ]
  },
  {
   "cell_type": "markdown",
   "id": "109acaee",
   "metadata": {},
   "source": [
    "## Pharmacogenetic Variants\n",
    "- Pharmacogenomic Variants of SLC0B11 ...\n",
    "- Provide table with variants and activity; simulate additional variants; 2 alleles & effect of multiple copies\n",
    "- Combination with variability"
   ]
  },
  {
   "cell_type": "markdown",
   "id": "35f69ee4",
   "metadata": {},
   "source": [
    "## Physiological Factors\n",
    "- Sex differences in body weight (volume of distribution)\n",
    "- Age dependent differences \n",
    "\n",
    "\n",
    "Simulate how yourself (body weight, age) would compare to yourself in 50 years?"
   ]
  },
  {
   "cell_type": "markdown",
   "id": "5049cbc3",
   "metadata": {},
   "source": [
    "## Achieving therapeutic range for a population"
   ]
  },
  {
   "cell_type": "code",
   "execution_count": null,
   "id": "5956870a",
   "metadata": {},
   "outputs": [],
   "source": []
  }
 ],
 "metadata": {
  "kernelspec": {
   "display_name": "mb19",
   "language": "python",
   "name": "mb19"
  },
  "language_info": {
   "codemirror_mode": {
    "name": "ipython",
    "version": 3
   },
   "file_extension": ".py",
   "mimetype": "text/x-python",
   "name": "python",
   "nbconvert_exporter": "python",
   "pygments_lexer": "ipython3",
   "version": "3.10.11"
  }
 },
 "nbformat": 4,
 "nbformat_minor": 5
}
