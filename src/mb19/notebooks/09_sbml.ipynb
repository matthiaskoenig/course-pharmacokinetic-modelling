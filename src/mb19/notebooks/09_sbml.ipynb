{
 "cells": [
  {
   "cell_type": "markdown",
   "id": "2e9e7ec1",
   "metadata": {},
   "source": [
    "# SBML models\n",
    "The Systems Biology Markup Language (SBML) is a computer-readable format for representing models of biological systems. It is an XML-based standard for encoding computational models in systems biology, a field that aims to understand how individual components of biological systems interact to produce the behavior of those systems.\n",
    "\n",
    "SBML is designed to enable the exchange of such models between different software tools, allowing researchers to use the best tool for each part of a task and facilitating collaborations between different groups. It is also meant to provide a format for storing and archiving models, ensuring that models can be reproduced and reused in the future.\n",
    "\n",
    "SBML describes models consisting of biochemical entities (such as species), reactions among those entities, and mathematical rules that govern the system. It can represent metabolism, cell signaling, gene regulation, and many other types of biological systems.\n",
    "\n",
    "The development of SBML is coordinated by the SBML Project, a collaborative, community-driven effort involving researchers, software developers, and others interested in systems biology. The project provides libraries and software tools for working with SBML, as well as resources for learning about the language.\n",
    "\n",
    "As of my knowledge cutoff in September 2021, the latest stable version of SBML is Level 3 Version 2, but users and developers are advised to check the SBML website for the most current version and associated packages."
   ]
  }
 ],
 "metadata": {
  "kernelspec": {
   "display_name": "mb19",
   "language": "python",
   "name": "mb19"
  },
  "language_info": {
   "codemirror_mode": {
    "name": "ipython",
    "version": 3
   },
   "file_extension": ".py",
   "mimetype": "text/x-python",
   "name": "python",
   "nbconvert_exporter": "python",
   "pygments_lexer": "ipython3",
   "version": "3.10.11"
  }
 },
 "nbformat": 4,
 "nbformat_minor": 5
}
