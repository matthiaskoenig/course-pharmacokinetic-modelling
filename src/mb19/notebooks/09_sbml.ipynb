{
 "cells": [
  {
   "cell_type": "markdown",
   "id": "2e9e7ec1",
   "metadata": {},
   "source": [
    "# SBML models\n",
    "The Systems Biology Markup Language (SBML) is a computer-readable format for representing models of biological systems. It is an XML-based standard for encoding computational models in systems biology, a field that aims to understand how individual components of biological systems interact to produce the behavior of those systems.\n",
    "\n",
    "SBML is designed to enable the exchange of such models between different software tools, allowing researchers to use the best tool for each part of a task and facilitating collaborations between different groups. It is also meant to provide a format for storing and archiving models, ensuring that models can be reproduced and reused in the future.\n",
    "\n",
    "SBML describes models consisting of biochemical entities (such as species), reactions among those entities, and mathematical rules that govern the system. It can represent metabolism, cell signaling, gene regulation, and many other types of biological systems.\n",
    "\n",
    "The development of SBML is coordinated by the SBML Project, a collaborative, community-driven effort involving researchers, software developers, and others interested in systems biology. The project provides libraries and software tools for working with SBML, as well as resources for learning about the language.\n",
    "\n",
    "As of my knowledge cutoff in September 2021, the latest stable version of SBML is Level 3 Version 2, but users and developers are advised to check the SBML website for the most current version and associated packages.\n",
    "\n",
    "To work with sbml we require the additional packages `sbmlutils` and `libroadrunner`. These must be installed in anaconda first."
   ]
  },
  {
   "cell_type": "markdown",
   "id": "d1f1fd26",
   "metadata": {},
   "source": [
    "## Encode SBML model\n",
    "In a first step we encode our simple model with sbmlutils as SBML.\n",
    "![Absorption Elimination Model](04_simple_absorption.png)"
   ]
  },
  {
   "cell_type": "code",
   "execution_count": 1,
   "id": "38ad57e3",
   "metadata": {},
   "outputs": [
    {
     "data": {
      "text/html": [
       "<pre style=\"white-space:pre;overflow-x:auto;line-height:normal;font-family:Menlo,'DejaVu Sans Mono',consolas,'Courier New',monospace\"><span style=\"color: #800000; text-decoration-color: #800000\">WARNING </span> Update registry: <span style=\"color: #008000; text-decoration-color: #008000\">'https://registry.api.identifiers.org/resolutionApi/getResolverDataset'</span>   <a href=\"file:///home/mkoenig/.local/lib/python3.10/site-packages/pymetadata/identifiers/registry.py\" target=\"_blank\"><span style=\"color: #7f7f7f; text-decoration-color: #7f7f7f\">registry.py</span></a><span style=\"color: #7f7f7f; text-decoration-color: #7f7f7f\">:</span><a href=\"file:///home/mkoenig/.local/lib/python3.10/site-packages/pymetadata/identifiers/registry.py#330\" target=\"_blank\"><span style=\"color: #7f7f7f; text-decoration-color: #7f7f7f\">330</span></a>\n",
       "         -&gt;                                                                                         <span style=\"color: #7f7f7f; text-decoration-color: #7f7f7f\">               </span>\n",
       "         <span style=\"color: #008000; text-decoration-color: #008000\">'/home/mkoenig/.local/lib/python3.10/site-packages/pymetadata/resources/identifiers_regist</span> <span style=\"color: #7f7f7f; text-decoration-color: #7f7f7f\">               </span>\n",
       "         <span style=\"color: #008000; text-decoration-color: #008000\">ry.json'</span>                                                                                   <span style=\"color: #7f7f7f; text-decoration-color: #7f7f7f\">               </span>\n",
       "</pre>\n"
      ],
      "text/plain": [
       "\u001b[31mWARNING \u001b[0m Update registry: \u001b[32m'https://registry.api.identifiers.org/resolutionApi/getResolverDataset'\u001b[0m   \u001b]8;id=340934;file:///home/mkoenig/.local/lib/python3.10/site-packages/pymetadata/identifiers/registry.py\u001b\\\u001b[2mregistry.py\u001b[0m\u001b]8;;\u001b\\\u001b[2m:\u001b[0m\u001b]8;id=162229;file:///home/mkoenig/.local/lib/python3.10/site-packages/pymetadata/identifiers/registry.py#330\u001b\\\u001b[2m330\u001b[0m\u001b]8;;\u001b\\\n",
       "         ->                                                                                         \u001b[2m               \u001b[0m\n",
       "         \u001b[32m'/home/mkoenig/.local/lib/python3.10/site-packages/pymetadata/resources/identifiers_regist\u001b[0m \u001b[2m               \u001b[0m\n",
       "         \u001b[32mry.json'\u001b[0m                                                                                   \u001b[2m               \u001b[0m\n"
      ]
     },
     "metadata": {},
     "output_type": "display_data"
    },
    {
     "data": {
      "text/html": [
       "<pre style=\"white-space:pre;overflow-x:auto;line-height:normal;font-family:Menlo,'DejaVu Sans Mono',consolas,'Courier New',monospace\"><span style=\"color: #800000; text-decoration-color: #800000\">WARNING </span> Adding custom namespaces: <span style=\"font-weight: bold\">[</span><span style=\"color: #008000; text-decoration-color: #008000\">'atol'</span>, <span style=\"color: #008000; text-decoration-color: #008000\">'brenda.ligand'</span>, <span style=\"color: #008000; text-decoration-color: #008000\">'chmo'</span>, <span style=\"color: #008000; text-decoration-color: #008000\">'cmo'</span>, <span style=\"color: #008000; text-decoration-color: #008000\">'dron'</span>, <span style=\"color: #008000; text-decoration-color: #008000\">'fix'</span>,          <a href=\"file:///home/mkoenig/.local/lib/python3.10/site-packages/pymetadata/identifiers/registry.py\" target=\"_blank\"><span style=\"color: #7f7f7f; text-decoration-color: #7f7f7f\">registry.py</span></a><span style=\"color: #7f7f7f; text-decoration-color: #7f7f7f\">:</span><a href=\"file:///home/mkoenig/.local/lib/python3.10/site-packages/pymetadata/identifiers/registry.py#343\" target=\"_blank\"><span style=\"color: #7f7f7f; text-decoration-color: #7f7f7f\">343</span></a>\n",
       "         <span style=\"color: #008000; text-decoration-color: #008000\">'metabolights.compound'</span>, <span style=\"color: #008000; text-decoration-color: #008000\">'mmo'</span>, <span style=\"color: #008000; text-decoration-color: #008000\">'mondo'</span>, <span style=\"color: #008000; text-decoration-color: #008000\">'nbo'</span>, <span style=\"color: #008000; text-decoration-color: #008000\">'oba'</span>, <span style=\"color: #008000; text-decoration-color: #008000\">'omim'</span>, <span style=\"color: #008000; text-decoration-color: #008000\">'opmi'</span>, <span style=\"color: #008000; text-decoration-color: #008000\">'scdo'</span>, <span style=\"color: #008000; text-decoration-color: #008000\">'snomed'</span>,   <span style=\"color: #7f7f7f; text-decoration-color: #7f7f7f\">               </span>\n",
       "         <span style=\"color: #008000; text-decoration-color: #008000\">'stato'</span>, <span style=\"color: #008000; text-decoration-color: #008000\">'vto'</span><span style=\"font-weight: bold\">]</span>                                                                            <span style=\"color: #7f7f7f; text-decoration-color: #7f7f7f\">               </span>\n",
       "</pre>\n"
      ],
      "text/plain": [
       "\u001b[31mWARNING \u001b[0m Adding custom namespaces: \u001b[1m[\u001b[0m\u001b[32m'atol'\u001b[0m, \u001b[32m'brenda.ligand'\u001b[0m, \u001b[32m'chmo'\u001b[0m, \u001b[32m'cmo'\u001b[0m, \u001b[32m'dron'\u001b[0m, \u001b[32m'fix'\u001b[0m,          \u001b]8;id=633636;file:///home/mkoenig/.local/lib/python3.10/site-packages/pymetadata/identifiers/registry.py\u001b\\\u001b[2mregistry.py\u001b[0m\u001b]8;;\u001b\\\u001b[2m:\u001b[0m\u001b]8;id=647649;file:///home/mkoenig/.local/lib/python3.10/site-packages/pymetadata/identifiers/registry.py#343\u001b\\\u001b[2m343\u001b[0m\u001b]8;;\u001b\\\n",
       "         \u001b[32m'metabolights.compound'\u001b[0m, \u001b[32m'mmo'\u001b[0m, \u001b[32m'mondo'\u001b[0m, \u001b[32m'nbo'\u001b[0m, \u001b[32m'oba'\u001b[0m, \u001b[32m'omim'\u001b[0m, \u001b[32m'opmi'\u001b[0m, \u001b[32m'scdo'\u001b[0m, \u001b[32m'snomed'\u001b[0m,   \u001b[2m               \u001b[0m\n",
       "         \u001b[32m'stato'\u001b[0m, \u001b[32m'vto'\u001b[0m\u001b[1m]\u001b[0m                                                                            \u001b[2m               \u001b[0m\n"
      ]
     },
     "metadata": {},
     "output_type": "display_data"
    },
    {
     "data": {
      "text/html": [
       "<pre style=\"white-space:pre;overflow-x:auto;line-height:normal;font-family:Menlo,'DejaVu Sans Mono',consolas,'Courier New',monospace\"><span style=\"color: #000080; text-decoration-color: #000080\">INFO    </span> Write cache:                                                                                   <a href=\"file:///home/mkoenig/.local/lib/python3.10/site-packages/pymetadata/cache.py\" target=\"_blank\"><span style=\"color: #7f7f7f; text-decoration-color: #7f7f7f\">cache.py</span></a><span style=\"color: #7f7f7f; text-decoration-color: #7f7f7f\">:</span><a href=\"file:///home/mkoenig/.local/lib/python3.10/site-packages/pymetadata/cache.py#46\" target=\"_blank\"><span style=\"color: #7f7f7f; text-decoration-color: #7f7f7f\">46</span></a>\n",
       "         <span style=\"color: #800080; text-decoration-color: #800080\">/home/mkoenig/.local/lib/python3.10/site-packages/pymetadata/resources/</span><span style=\"color: #ff00ff; text-decoration-color: #ff00ff\">identifiers_registry.js</span> <span style=\"color: #7f7f7f; text-decoration-color: #7f7f7f\">           </span>\n",
       "         <span style=\"color: #ff00ff; text-decoration-color: #ff00ff\">on</span>                                                                                             <span style=\"color: #7f7f7f; text-decoration-color: #7f7f7f\">           </span>\n",
       "</pre>\n"
      ],
      "text/plain": [
       "\u001b[34mINFO    \u001b[0m Write cache:                                                                                   \u001b]8;id=56589;file:///home/mkoenig/.local/lib/python3.10/site-packages/pymetadata/cache.py\u001b\\\u001b[2mcache.py\u001b[0m\u001b]8;;\u001b\\\u001b[2m:\u001b[0m\u001b]8;id=265503;file:///home/mkoenig/.local/lib/python3.10/site-packages/pymetadata/cache.py#46\u001b\\\u001b[2m46\u001b[0m\u001b]8;;\u001b\\\n",
       "         \u001b[35m/home/mkoenig/.local/lib/python3.10/site-packages/pymetadata/resources/\u001b[0m\u001b[95midentifiers_registry.js\u001b[0m \u001b[2m           \u001b[0m\n",
       "         \u001b[95mon\u001b[0m                                                                                             \u001b[2m           \u001b[0m\n"
      ]
     },
     "metadata": {},
     "output_type": "display_data"
    },
    {
     "data": {
      "text/html": [
       "<pre style=\"white-space:pre;overflow-x:auto;line-height:normal;font-family:Menlo,'DejaVu Sans Mono',consolas,'Courier New',monospace\"><span style=\"color: #c0c0c0; text-decoration-color: #c0c0c0\">─────────────────────────────────────────────────── </span>Create SBML<span style=\"color: #c0c0c0; text-decoration-color: #c0c0c0\"> ───────────────────────────────────────────────────</span>\n",
       "</pre>\n"
      ],
      "text/plain": [
       "\u001b[37m─────────────────────────────────────────────────── \u001b[0mCreate SBML\u001b[37m ───────────────────────────────────────────────────\u001b[0m\n"
      ]
     },
     "metadata": {},
     "output_type": "display_data"
    },
    {
     "data": {
      "text/html": [
       "<pre style=\"white-space:pre;overflow-x:auto;line-height:normal;font-family:Menlo,'DejaVu Sans Mono',consolas,'Courier New',monospace\"><span style=\"color: #000080; text-decoration-color: #000080\">INFO    </span> Create SBML for model <span style=\"color: #008000; text-decoration-color: #008000\">'absorption_first_order'</span>                                             <a href=\"file:///home/mkoenig/.local/lib/python3.10/site-packages/sbmlutils/factory.py\" target=\"_blank\"><span style=\"color: #7f7f7f; text-decoration-color: #7f7f7f\">factory.py</span></a><span style=\"color: #7f7f7f; text-decoration-color: #7f7f7f\">:</span><a href=\"file:///home/mkoenig/.local/lib/python3.10/site-packages/sbmlutils/factory.py#3526\" target=\"_blank\"><span style=\"color: #7f7f7f; text-decoration-color: #7f7f7f\">3526</span></a>\n",
       "</pre>\n"
      ],
      "text/plain": [
       "\u001b[34mINFO    \u001b[0m Create SBML for model \u001b[32m'absorption_first_order'\u001b[0m                                             \u001b]8;id=282149;file:///home/mkoenig/.local/lib/python3.10/site-packages/sbmlutils/factory.py\u001b\\\u001b[2mfactory.py\u001b[0m\u001b]8;;\u001b\\\u001b[2m:\u001b[0m\u001b]8;id=109458;file:///home/mkoenig/.local/lib/python3.10/site-packages/sbmlutils/factory.py#3526\u001b\\\u001b[2m3526\u001b[0m\u001b]8;;\u001b\\\n"
      ]
     },
     "metadata": {},
     "output_type": "display_data"
    },
    {
     "data": {
      "text/html": [
       "<pre style=\"white-space:pre;overflow-x:auto;line-height:normal;font-family:Menlo,'DejaVu Sans Mono',consolas,'Courier New',monospace\"><span style=\"color: #800000; text-decoration-color: #800000\">WARNING </span> <span style=\"color: #008000; text-decoration-color: #008000\">'sboTerm'</span> should be set on <span style=\"color: #008000; text-decoration-color: #008000\">'Parameter(Dose_A, Dose of A)'</span>                                   <a href=\"file:///home/mkoenig/.local/lib/python3.10/site-packages/sbmlutils/factory.py\" target=\"_blank\"><span style=\"color: #7f7f7f; text-decoration-color: #7f7f7f\">factory.py</span></a><span style=\"color: #7f7f7f; text-decoration-color: #7f7f7f\">:</span><a href=\"file:///home/mkoenig/.local/lib/python3.10/site-packages/sbmlutils/factory.py#466\" target=\"_blank\"><span style=\"color: #7f7f7f; text-decoration-color: #7f7f7f\">466</span></a>\n",
       "</pre>\n"
      ],
      "text/plain": [
       "\u001b[31mWARNING \u001b[0m \u001b[32m'sboTerm'\u001b[0m should be set on \u001b[32m'Parameter\u001b[0m\u001b[32m(\u001b[0m\u001b[32mDose_A, Dose of A\u001b[0m\u001b[32m)\u001b[0m\u001b[32m'\u001b[0m                                   \u001b]8;id=246728;file:///home/mkoenig/.local/lib/python3.10/site-packages/sbmlutils/factory.py\u001b\\\u001b[2mfactory.py\u001b[0m\u001b]8;;\u001b\\\u001b[2m:\u001b[0m\u001b]8;id=623570;file:///home/mkoenig/.local/lib/python3.10/site-packages/sbmlutils/factory.py#466\u001b\\\u001b[2m466\u001b[0m\u001b]8;;\u001b\\\n"
      ]
     },
     "metadata": {},
     "output_type": "display_data"
    },
    {
     "data": {
      "text/html": [
       "<pre style=\"white-space:pre;overflow-x:auto;line-height:normal;font-family:Menlo,'DejaVu Sans Mono',consolas,'Courier New',monospace\"><span style=\"color: #800000; text-decoration-color: #800000\">WARNING </span> <span style=\"color: #008000; text-decoration-color: #008000\">'sboTerm'</span> should be set on <span style=\"color: #008000; text-decoration-color: #008000\">'Parameter(ka, Absorption rate)'</span>                                 <a href=\"file:///home/mkoenig/.local/lib/python3.10/site-packages/sbmlutils/factory.py\" target=\"_blank\"><span style=\"color: #7f7f7f; text-decoration-color: #7f7f7f\">factory.py</span></a><span style=\"color: #7f7f7f; text-decoration-color: #7f7f7f\">:</span><a href=\"file:///home/mkoenig/.local/lib/python3.10/site-packages/sbmlutils/factory.py#466\" target=\"_blank\"><span style=\"color: #7f7f7f; text-decoration-color: #7f7f7f\">466</span></a>\n",
       "</pre>\n"
      ],
      "text/plain": [
       "\u001b[31mWARNING \u001b[0m \u001b[32m'sboTerm'\u001b[0m should be set on \u001b[32m'Parameter\u001b[0m\u001b[32m(\u001b[0m\u001b[32mka, Absorption rate\u001b[0m\u001b[32m)\u001b[0m\u001b[32m'\u001b[0m                                 \u001b]8;id=20700;file:///home/mkoenig/.local/lib/python3.10/site-packages/sbmlutils/factory.py\u001b\\\u001b[2mfactory.py\u001b[0m\u001b]8;;\u001b\\\u001b[2m:\u001b[0m\u001b]8;id=979337;file:///home/mkoenig/.local/lib/python3.10/site-packages/sbmlutils/factory.py#466\u001b\\\u001b[2m466\u001b[0m\u001b]8;;\u001b\\\n"
      ]
     },
     "metadata": {},
     "output_type": "display_data"
    },
    {
     "data": {
      "text/html": [
       "<pre style=\"white-space:pre;overflow-x:auto;line-height:normal;font-family:Menlo,'DejaVu Sans Mono',consolas,'Courier New',monospace\"><span style=\"color: #800000; text-decoration-color: #800000\">WARNING </span> <span style=\"color: #008000; text-decoration-color: #008000\">'sboTerm'</span> should be set on <span style=\"color: #008000; text-decoration-color: #008000\">'Parameter(ke, Elimination rate)'</span>                                <a href=\"file:///home/mkoenig/.local/lib/python3.10/site-packages/sbmlutils/factory.py\" target=\"_blank\"><span style=\"color: #7f7f7f; text-decoration-color: #7f7f7f\">factory.py</span></a><span style=\"color: #7f7f7f; text-decoration-color: #7f7f7f\">:</span><a href=\"file:///home/mkoenig/.local/lib/python3.10/site-packages/sbmlutils/factory.py#466\" target=\"_blank\"><span style=\"color: #7f7f7f; text-decoration-color: #7f7f7f\">466</span></a>\n",
       "</pre>\n"
      ],
      "text/plain": [
       "\u001b[31mWARNING \u001b[0m \u001b[32m'sboTerm'\u001b[0m should be set on \u001b[32m'Parameter\u001b[0m\u001b[32m(\u001b[0m\u001b[32mke, Elimination rate\u001b[0m\u001b[32m)\u001b[0m\u001b[32m'\u001b[0m                                \u001b]8;id=635282;file:///home/mkoenig/.local/lib/python3.10/site-packages/sbmlutils/factory.py\u001b\\\u001b[2mfactory.py\u001b[0m\u001b]8;;\u001b\\\u001b[2m:\u001b[0m\u001b]8;id=147030;file:///home/mkoenig/.local/lib/python3.10/site-packages/sbmlutils/factory.py#466\u001b\\\u001b[2m466\u001b[0m\u001b]8;;\u001b\\\n"
      ]
     },
     "metadata": {},
     "output_type": "display_data"
    },
    {
     "data": {
      "text/html": [
       "<pre style=\"white-space:pre;overflow-x:auto;line-height:normal;font-family:Menlo,'DejaVu Sans Mono',consolas,'Courier New',monospace\"><span style=\"color: #800000; text-decoration-color: #800000\">WARNING </span> <span style=\"color: #008000; text-decoration-color: #008000\">'sboTerm'</span> should be set on <span style=\"color: #008000; text-decoration-color: #008000\">'Reaction(ABSORPTION, absorption A)'</span>                             <a href=\"file:///home/mkoenig/.local/lib/python3.10/site-packages/sbmlutils/factory.py\" target=\"_blank\"><span style=\"color: #7f7f7f; text-decoration-color: #7f7f7f\">factory.py</span></a><span style=\"color: #7f7f7f; text-decoration-color: #7f7f7f\">:</span><a href=\"file:///home/mkoenig/.local/lib/python3.10/site-packages/sbmlutils/factory.py#466\" target=\"_blank\"><span style=\"color: #7f7f7f; text-decoration-color: #7f7f7f\">466</span></a>\n",
       "</pre>\n"
      ],
      "text/plain": [
       "\u001b[31mWARNING \u001b[0m \u001b[32m'sboTerm'\u001b[0m should be set on \u001b[32m'Reaction\u001b[0m\u001b[32m(\u001b[0m\u001b[32mABSORPTION, absorption A\u001b[0m\u001b[32m)\u001b[0m\u001b[32m'\u001b[0m                             \u001b]8;id=291982;file:///home/mkoenig/.local/lib/python3.10/site-packages/sbmlutils/factory.py\u001b\\\u001b[2mfactory.py\u001b[0m\u001b]8;;\u001b\\\u001b[2m:\u001b[0m\u001b]8;id=885800;file:///home/mkoenig/.local/lib/python3.10/site-packages/sbmlutils/factory.py#466\u001b\\\u001b[2m466\u001b[0m\u001b]8;;\u001b\\\n"
      ]
     },
     "metadata": {},
     "output_type": "display_data"
    },
    {
     "data": {
      "text/html": [
       "<pre style=\"white-space:pre;overflow-x:auto;line-height:normal;font-family:Menlo,'DejaVu Sans Mono',consolas,'Courier New',monospace\"><span style=\"color: #800000; text-decoration-color: #800000\">WARNING </span> <span style=\"color: #008000; text-decoration-color: #008000\">'sboTerm'</span> should be set on <span style=\"color: #008000; text-decoration-color: #008000\">'Reaction(ELIMINATION, elimination A)'</span>                           <a href=\"file:///home/mkoenig/.local/lib/python3.10/site-packages/sbmlutils/factory.py\" target=\"_blank\"><span style=\"color: #7f7f7f; text-decoration-color: #7f7f7f\">factory.py</span></a><span style=\"color: #7f7f7f; text-decoration-color: #7f7f7f\">:</span><a href=\"file:///home/mkoenig/.local/lib/python3.10/site-packages/sbmlutils/factory.py#466\" target=\"_blank\"><span style=\"color: #7f7f7f; text-decoration-color: #7f7f7f\">466</span></a>\n",
       "</pre>\n"
      ],
      "text/plain": [
       "\u001b[31mWARNING \u001b[0m \u001b[32m'sboTerm'\u001b[0m should be set on \u001b[32m'Reaction\u001b[0m\u001b[32m(\u001b[0m\u001b[32mELIMINATION, elimination A\u001b[0m\u001b[32m)\u001b[0m\u001b[32m'\u001b[0m                           \u001b]8;id=667866;file:///home/mkoenig/.local/lib/python3.10/site-packages/sbmlutils/factory.py\u001b\\\u001b[2mfactory.py\u001b[0m\u001b]8;;\u001b\\\u001b[2m:\u001b[0m\u001b]8;id=252423;file:///home/mkoenig/.local/lib/python3.10/site-packages/sbmlutils/factory.py#466\u001b\\\u001b[2m466\u001b[0m\u001b]8;;\u001b\\\n"
      ]
     },
     "metadata": {},
     "output_type": "display_data"
    },
    {
     "data": {
      "text/html": [
       "<pre style=\"white-space:pre;overflow-x:auto;line-height:normal;font-family:Menlo,'DejaVu Sans Mono',consolas,'Courier New',monospace\"><span style=\"color: #800000; text-decoration-color: #800000\">WARNING </span> <span style=\"color: #008000; text-decoration-color: #008000\">'name'</span> should be set on <span style=\"color: #008000; text-decoration-color: #008000\">'InitialAssignment()'</span>                                               <a href=\"file:///home/mkoenig/.local/lib/python3.10/site-packages/sbmlutils/factory.py\" target=\"_blank\"><span style=\"color: #7f7f7f; text-decoration-color: #7f7f7f\">factory.py</span></a><span style=\"color: #7f7f7f; text-decoration-color: #7f7f7f\">:</span><a href=\"file:///home/mkoenig/.local/lib/python3.10/site-packages/sbmlutils/factory.py#441\" target=\"_blank\"><span style=\"color: #7f7f7f; text-decoration-color: #7f7f7f\">441</span></a>\n",
       "</pre>\n"
      ],
      "text/plain": [
       "\u001b[31mWARNING \u001b[0m \u001b[32m'name'\u001b[0m should be set on \u001b[32m'InitialAssignment\u001b[0m\u001b[32m(\u001b[0m\u001b[32m)\u001b[0m\u001b[32m'\u001b[0m                                               \u001b]8;id=711484;file:///home/mkoenig/.local/lib/python3.10/site-packages/sbmlutils/factory.py\u001b\\\u001b[2mfactory.py\u001b[0m\u001b]8;;\u001b\\\u001b[2m:\u001b[0m\u001b]8;id=11447;file:///home/mkoenig/.local/lib/python3.10/site-packages/sbmlutils/factory.py#441\u001b\\\u001b[2m441\u001b[0m\u001b]8;;\u001b\\\n"
      ]
     },
     "metadata": {},
     "output_type": "display_data"
    },
    {
     "data": {
      "text/html": [
       "<pre style=\"white-space:pre;overflow-x:auto;line-height:normal;font-family:Menlo,'DejaVu Sans Mono',consolas,'Courier New',monospace\"><span style=\"color: #800000; text-decoration-color: #800000\">WARNING </span> <span style=\"color: #008000; text-decoration-color: #008000\">'sboTerm'</span> should be set on <span style=\"color: #008000; text-decoration-color: #008000\">'InitialAssignment()'</span>                                            <a href=\"file:///home/mkoenig/.local/lib/python3.10/site-packages/sbmlutils/factory.py\" target=\"_blank\"><span style=\"color: #7f7f7f; text-decoration-color: #7f7f7f\">factory.py</span></a><span style=\"color: #7f7f7f; text-decoration-color: #7f7f7f\">:</span><a href=\"file:///home/mkoenig/.local/lib/python3.10/site-packages/sbmlutils/factory.py#466\" target=\"_blank\"><span style=\"color: #7f7f7f; text-decoration-color: #7f7f7f\">466</span></a>\n",
       "</pre>\n"
      ],
      "text/plain": [
       "\u001b[31mWARNING \u001b[0m \u001b[32m'sboTerm'\u001b[0m should be set on \u001b[32m'InitialAssignment\u001b[0m\u001b[32m(\u001b[0m\u001b[32m)\u001b[0m\u001b[32m'\u001b[0m                                            \u001b]8;id=97078;file:///home/mkoenig/.local/lib/python3.10/site-packages/sbmlutils/factory.py\u001b\\\u001b[2mfactory.py\u001b[0m\u001b]8;;\u001b\\\u001b[2m:\u001b[0m\u001b]8;id=756221;file:///home/mkoenig/.local/lib/python3.10/site-packages/sbmlutils/factory.py#466\u001b\\\u001b[2m466\u001b[0m\u001b]8;;\u001b\\\n"
      ]
     },
     "metadata": {},
     "output_type": "display_data"
    },
    {
     "data": {
      "text/html": [
       "<pre style=\"white-space:pre;overflow-x:auto;line-height:normal;font-family:Menlo,'DejaVu Sans Mono',consolas,'Courier New',monospace\">\n",
       "</pre>\n"
      ],
      "text/plain": [
       "\n"
      ]
     },
     "metadata": {},
     "output_type": "display_data"
    },
    {
     "data": {
      "text/html": [
       "<pre style=\"white-space:pre;overflow-x:auto;line-height:normal;font-family:Menlo,'DejaVu Sans Mono',consolas,'Courier New',monospace\"><span style=\"color: #008000; text-decoration-color: #008000\">────────────────────────────────────────────────── </span>Validate SBML<span style=\"color: #008000; text-decoration-color: #008000\"> ──────────────────────────────────────────────────</span>\n",
       "</pre>\n"
      ],
      "text/plain": [
       "\u001b[32m────────────────────────────────────────────────── \u001b[0mValidate SBML\u001b[32m ──────────────────────────────────────────────────\u001b[0m\n"
      ]
     },
     "metadata": {},
     "output_type": "display_data"
    },
    {
     "data": {
      "text/html": [
       "<pre style=\"white-space:pre;overflow-x:auto;line-height:normal;font-family:Menlo,'DejaVu Sans Mono',consolas,'Courier New',monospace\"><span style=\"color: #008000; text-decoration-color: #008000\">absorption_first_order.xml</span>\n",
       "<span style=\"color: #008000; text-decoration-color: #008000\">valid                    : TRUE</span>\n",
       "<span style=\"color: #008000; text-decoration-color: #008000\">check time </span><span style=\"color: #008000; text-decoration-color: #008000; font-weight: bold\">(</span><span style=\"color: #008000; text-decoration-color: #008000\">s</span><span style=\"color: #008000; text-decoration-color: #008000; font-weight: bold\">)</span><span style=\"color: #008000; text-decoration-color: #008000\">           : </span><span style=\"color: #008080; text-decoration-color: #008080; font-weight: bold\">0.002</span>\n",
       "</pre>\n"
      ],
      "text/plain": [
       "\u001b[32mabsorption_first_order.xml\u001b[0m\n",
       "\u001b[32mvalid                    : TRUE\u001b[0m\n",
       "\u001b[32mcheck time \u001b[0m\u001b[1;32m(\u001b[0m\u001b[32ms\u001b[0m\u001b[1;32m)\u001b[0m\u001b[32m           : \u001b[0m\u001b[1;36m0.002\u001b[0m\n"
      ]
     },
     "metadata": {},
     "output_type": "display_data"
    },
    {
     "data": {
      "text/html": [
       "<pre style=\"white-space:pre;overflow-x:auto;line-height:normal;font-family:Menlo,'DejaVu Sans Mono',consolas,'Courier New',monospace\"><span style=\"color: #008000; text-decoration-color: #008000\">───────────────────────────────────────────────────────────────────────────────────────────────────────────────────</span>\n",
       "</pre>\n"
      ],
      "text/plain": [
       "\u001b[32m───────────────────────────────────────────────────────────────────────────────────────────────────────────────────\u001b[0m\n"
      ]
     },
     "metadata": {},
     "output_type": "display_data"
    },
    {
     "data": {
      "text/html": [
       "<pre style=\"white-space:pre;overflow-x:auto;line-height:normal;font-family:Menlo,'DejaVu Sans Mono',consolas,'Courier New',monospace\">\n",
       "</pre>\n"
      ],
      "text/plain": [
       "\n"
      ]
     },
     "metadata": {},
     "output_type": "display_data"
    },
    {
     "data": {
      "text/html": [
       "<pre style=\"white-space:pre;overflow-x:auto;line-height:normal;font-family:Menlo,'DejaVu Sans Mono',consolas,'Courier New',monospace\"><span style=\"color: #c0c0c0; text-decoration-color: #c0c0c0\">───────────────────────────────────────────────────────────────────────────────────────────────────────────────────</span>\n",
       "</pre>\n"
      ],
      "text/plain": [
       "\u001b[37m───────────────────────────────────────────────────────────────────────────────────────────────────────────────────\u001b[0m\n"
      ]
     },
     "metadata": {},
     "output_type": "display_data"
    },
    {
     "data": {
      "text/html": [
       "<pre style=\"white-space:pre;overflow-x:auto;line-height:normal;font-family:Menlo,'DejaVu Sans Mono',consolas,'Courier New',monospace\"><span style=\"color: #c0c0c0; text-decoration-color: #c0c0c0\">───────────────────────────────────────────────────────────────────────────────────────────────────────────────────</span>\n",
       "</pre>\n"
      ],
      "text/plain": [
       "\u001b[37m───────────────────────────────────────────────────────────────────────────────────────────────────────────────────\u001b[0m\n"
      ]
     },
     "metadata": {},
     "output_type": "display_data"
    }
   ],
   "source": [
    "from sbmlutils.factory import *\n",
    "from sbmlutils.metadata import *\n",
    "from pathlib import Path\n",
    "\n",
    "m = Model(\n",
    "    sid=\"absorption_first_order\",\n",
    "    name=\"Absorption model with first order kinetics\",\n",
    "    \n",
    ")\n",
    "m.compartments = [\n",
    "    Compartment(\"body\", 1.0, name=\"Body\", sboTerm=SBO.SIMPLE_CHEMICAL)\n",
    "]\n",
    "m.parameters = [\n",
    "    Parameter(\"Dose_A\", 10.0, name=\"Dose of A\"),\n",
    "    Parameter(\"ka\", 1.0, name=\"Absorption rate\"),\n",
    "    Parameter(\"ke\", 1.0, name=\"Elimination rate\"),\n",
    "]\n",
    "m.species = [\n",
    "    Species(\"A_tablet\", initialAmount=0.0, hasOnlySubstanceUnits=True, \n",
    "            compartment=\"body\", name=\"A (tablet)\", sboTerm=SBO.SIMPLE_CHEMICAL),\n",
    "    Species(\"A_central\", initialAmount=0.0, hasOnlySubstanceUnits=True,\n",
    "           compartment=\"body\", name=\"A (body)\", sboTerm=SBO.SIMPLE_CHEMICAL),\n",
    "    Species(\"A_urine\", initialAmount=0.0, hasOnlySubstanceUnits=True,\n",
    "           compartment=\"body\", name=\"A (urine)\", sboTerm=SBO.SIMPLE_CHEMICAL),\n",
    "]\n",
    "m.assignments = [\n",
    "    InitialAssignment(\"A_tablet\", \"Dose_A\")\n",
    "]\n",
    "m.reactions = [\n",
    "    Reaction(\n",
    "        \"ABSORPTION\",\n",
    "        name=\"absorption A\",\n",
    "        equation=\"A_tablet -> A_central\",\n",
    "        formula = \"ka * A_tablet\"\n",
    "    ),\n",
    "    Reaction(\n",
    "        \"ELIMINATION\",\n",
    "        name=\"elimination A\",\n",
    "        equation=\"A_central -> A_urine\",\n",
    "        formula = \"ke * A_central\"\n",
    "    )\n",
    "]\n",
    "\n",
    "# save the model\n",
    "results = create_model(\n",
    "    model=m,\n",
    "    filepath=Path(\"absorption_first_order.xml\"),\n",
    "    validation_options=ValidationOptions(units_consistency=False)\n",
    ")"
   ]
  },
  {
   "cell_type": "markdown",
   "id": "006b5190",
   "metadata": {},
   "source": [
    "**Exercise**: Explore the model with `https://sbml4humans.de`. Upload the model to the website and navigate the objects.\n",
    "\n",
    "**Exercise**: Visualize the model with cytoscape and `cy3sbml`. I.e. Download Cytoscape, install the app `cy3sbml` and load the model to explore the model."
   ]
  },
  {
   "cell_type": "markdown",
   "id": "7fd89381",
   "metadata": {},
   "source": [
    "## Simulate SBML model\n",
    "In a second step we load the model and perform a simple simulation and visualization."
   ]
  },
  {
   "cell_type": "code",
   "execution_count": 2,
   "id": "b0d24ce2",
   "metadata": {},
   "outputs": [
    {
     "name": "stdout",
     "output_type": "stream",
     "text": [
      "     time  [A_tablet]  [A_central]  [A_urine]\n",
      "0     0.0   10.000000     0.000000   0.000000\n",
      "1     0.1    9.048374     0.904837   0.046788\n",
      "2     0.2    8.187307     1.637462   0.175231\n",
      "3     0.3    7.408182     2.222455   0.369363\n",
      "4     0.4    6.703201     2.681278   0.615521\n",
      "..    ...         ...          ...        ...\n",
      "96    9.6    0.000677     0.006502   9.992821\n",
      "97    9.7    0.000613     0.005945   9.993443\n",
      "98    9.8    0.000555     0.005434   9.994011\n",
      "99    9.9    0.000502     0.004967   9.994531\n",
      "100  10.0    0.000454     0.004540   9.995006\n",
      "\n",
      "[101 rows x 4 columns]\n"
     ]
    }
   ],
   "source": [
    "import roadrunner\n",
    "import pandas as pd\n",
    "r = roadrunner.RoadRunner(\"absorption_first_order.xml\")\n",
    "s = r.simulate(start=0, end=10, steps=100)\n",
    "df = pd.DataFrame(s, columns=s.colnames)\n",
    "print(df)"
   ]
  },
  {
   "cell_type": "code",
   "execution_count": 3,
   "id": "3561b5fa",
   "metadata": {},
   "outputs": [
    {
     "data": {
      "image/png": "[encoded data removed]",
      "text/plain": [
       "<Figure size 640x480 with 1 Axes>"
      ]
     },
     "metadata": {},
     "output_type": "display_data"
    }
   ],
   "source": [
    "from matplotlib import pyplot as plt\n",
    "f, ax = plt.subplots(nrows=1, ncols=1)\n",
    "f.suptitle(\"Simulation with SBML\")\n",
    "\n",
    "for name in [\"A_tablet\", \"A_central\", \"A_urine\"]:\n",
    "    ax.plot(df.time, df[f\"[{name}]\"], lw=2, label=name)\n",
    "    \n",
    "ax.set_ylabel(\"concentration\")\n",
    "ax.set_xlabel(\"time [hr]\")\n",
    "ax.legend()\n",
    "plt.show()"
   ]
  },
  {
   "cell_type": "code",
   "execution_count": null,
   "id": "6724a006-cdf2-4cc3-a3bd-4ae60e111d3d",
   "metadata": {},
   "outputs": [],
   "source": []
  }
 ],
 "metadata": {
  "kernelspec": {
   "display_name": "mb19",
   "language": "python",
   "name": "mb19"
  },
  "language_info": {
   "codemirror_mode": {
    "name": "ipython",
    "version": 3
   },
   "file_extension": ".py",
   "mimetype": "text/x-python",
   "name": "python",
   "nbconvert_exporter": "python",
   "pygments_lexer": "ipython3",
   "version": "3.10.9"
  }
 },
 "nbformat": 4,
 "nbformat_minor": 5
}
