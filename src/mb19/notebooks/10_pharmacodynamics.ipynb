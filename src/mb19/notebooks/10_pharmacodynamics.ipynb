{
 "cells": [
  {
   "cell_type": "markdown",
   "id": "759ea8f4-dd55-4ad2-be1c-58618214ee94",
   "metadata": {},
   "source": [
    "# Pharmacodynamics\n",
    "\n",
    "Pharmacodynamics is the study of how a drug affects the body. It involves understanding the biochemical, physiological, and molecular effects of drugs, as well as the body's response to them. Pharmacodynamics focuses on receptor binding, post-receptor effects, and chemical interactions. This field helps to explain how drugs work, their mechanisms of action, their therapeutic effects, and any adverse effects they might cause.\n",
    "\n",
    "In pharmacodynamics, key concepts include:\n",
    "\n",
    "1. **Dose-response relationships**: This describes how a body's response changes based on the dose of the drug. The relationship is typically plotted on a graph to understand the point at which the drug's effects plateau, and increasing the dose would not necessarily increase the response but could increase the risk of adverse effects.\n",
    "2. **Therapeutic window**: This is the dosage range in which a drug is expected to be effective without causing unacceptable side effects. It's a balance between efficacy and toxicity.\n",
    "3. **Receptors**: These are typically proteins in the body to which a drug binds to exert its effects. Drug-receptor interaction can stimulate (agonists) or block (antagonists) a physiological response.\n",
    "4. **Pharmacological effect**: This refers to the specific biochemical interaction through which a drug substance produces its pharmacological effect.\n",
    "5. **Drug potency and efficacy**: Potency refers to the amount of drug needed to produce an effect, while efficacy refers to the maximum effect a drug can produce.\n",
    "\n",
    "Pharmacodynamics, along with pharmacokinetics (how the body processes the drug), forms the basis for the development, therapeutic use, and understanding of drugs."
   ]
  },
  {
   "cell_type": "markdown",
   "id": "0e383fd7-d6b9-4f9f-aebb-269fdf5b0eea",
   "metadata": {},
   "source": [
    "## Dose response relationship\n",
    "Pharmacodynamics describes what a drug does to the body, and the dose-response relationship is a key aspect of this. The dose-response relationship, in basic terms, describes how the effect of a drug changes as its dose changes.\n",
    "\n",
    "Here are the key points related to the dose-response relationship:\n",
    "\n",
    "1. **Graded Dose-Response**: In this type of relationship, as the dose of a drug increases, the individual subject's response to the drug also increases until a maximum effect (Emax) is reached. At this point, increasing the dose further will not enhance the effect. This curve is often used to understand the drug's potency (amount of drug needed to produce a particular effect) and efficacy (maximum effect a drug can produce).\n",
    "2. **Quantal Dose-Response**: This type of relationship looks at the percentage of a population that responds to a certain dose of a drug rather than the intensity of an individual’s response. It's typically used to determine the median effective dose (ED50, the dose that produces the desired effect in 50% of the population), median toxic dose (TD50, the dose that is toxic in 50% of the population), and median lethal dose (LD50, the dose that is lethal in 50% of the population). These values are used in determining a drug's therapeutic index or safety margin.\n",
    "3. **Threshold Dose**: This is the minimum dose of a drug that produces a measurable response. Below this dose, no significant effect is observed.\n",
    "4. **Plateau or Saturation Point**: After a certain dose, increasing the quantity of the drug does not increase the therapeutic effect. This level is known as the plateau or saturation point, and it is here that the drug reaches its maximum efficacy.\n",
    "5. **Drug Receptors and Binding**: The dose-response relationship also hinges on the interaction between the drug and its receptor. Drugs bind to receptors to produce their effects, and the binding is often reversible. The degree to which a drug activates a response when it binds to a receptor is called intrinsic activity.\n",
    "6. **Agonists and Antagonists**: Drugs that bind to receptors and stimulate a response are called agonists. Those that prevent or dampen the receptor's response are called antagonists. Understanding how agonists and antagonists work helps in understanding the dose-response relationship.\n",
    "7. **Inter-individual Variability**: There can be significant variability in dose-response relationships between different individuals due to factors such as genetics, age, gender, disease state, and the presence of other drugs. \n",
    "\n",
    "These points highlight how the dose of the drug and the body's response to the drug are interconnected, and understanding this relationship is crucial in therapeutic drug use and development.\n",
    "\n",
    "First we will study the dose response relationship based on the following equation\n",
    "\n",
    "\\begin{equation}\n",
    "E = E_{max} \\cdot \\frac{C^{\\gamma}}{E_{50}^{\\gamma} + C^{\\gamma}}\n",
    "\\end{equation}\n",
    "\n",
    "with $E_{max}$ being the maximum effect or efficacy, $C$ being the concentration at the site of action, and $E_{50}$ being the dose required to produce 50% of the maximum effect, and $\\gamma$ being the steepness factor of the sigmoidal curve.\n",
    "\n",
    "![Dose response](10_pharmacodynamics_dose_response.png)"
   ]
  },
  {
   "cell_type": "code",
   "execution_count": null,
   "id": "d326269f-1ecd-4269-8f6c-7272ecf0262f",
   "metadata": {},
   "outputs": [],
   "source": [
    "import numpy as np\n",
    "from matplotlib import pyplot as plt\n",
    "\n",
    "Km = 1.0  # [mM]\n",
    "Vmax = 10\n",
    "A = np.linspace(0, 10, num=100)  # [mM]\n",
    "v = Vmax * A/(Km + A)\n",
    "\n",
    "f, ax = plt.subplots(nrows=1, ncols=1)\n",
    "f.suptitle(\"Michaelis Menten Kinetics\")\n",
    "ax.plot(A, v)\n",
    "ax.set_xlabel(\"Concentration A [mM]\")\n",
    "ax.set_ylabel(\"Rate v\")\n",
    "plt.show()"
   ]
  },
  {
   "cell_type": "markdown",
   "id": "baccc68e-0747-4914-b9a8-5ec31713f55b",
   "metadata": {},
   "source": [
    "Parameter scan to study the"
   ]
  },
  {
   "cell_type": "markdown",
   "id": "583822b0-ec0d-4307-9f0d-eb00b5b515e9",
   "metadata": {},
   "source": [
    "**Exercise**: Analyse the dependency of the Effect `E` on the efficacy `Emax` and steepness `gamma`. I.e. perform a parameter scan similar to the potency `E50`."
   ]
  },
  {
   "cell_type": "markdown",
   "id": "93907cca-2c63-461a-be9d-6eb1dd36e159",
   "metadata": {},
   "source": [
    "## Pharmacokinetics/pharmacodynamics (PK/PD)\n",
    "Next we are interested in combining a pharmacokinetics model (concentration timecourse) with a pharmacodynamic model of the drug to be able to describe the effect of the drug.\n",
    "\n",
    "![Pharmacokinetics and pharmacodynamics](10_pharmacodynamics_pkpd.png)\n",
    "\n",
    "We will couple the model of absorption and elimination to a model pharmacodynamic model describing the desired effect `E` and the side effect `S`.\n",
    "\n",
    "![PK/PD model](10_pharmacodynamics_model.png)"
   ]
  },
  {
   "cell_type": "code",
   "execution_count": null,
   "id": "39797f52-6920-4dc1-90a4-23c90978e8f6",
   "metadata": {},
   "outputs": [],
   "source": []
  }
 ],
 "metadata": {
  "kernelspec": {
   "display_name": "mb19",
   "language": "python",
   "name": "mb19"
  },
  "language_info": {
   "codemirror_mode": {
    "name": "ipython",
    "version": 3
   },
   "file_extension": ".py",
   "mimetype": "text/x-python",
   "name": "python",
   "nbconvert_exporter": "python",
   "pygments_lexer": "ipython3",
   "version": "3.10.11"
  }
 },
 "nbformat": 4,
 "nbformat_minor": 5
}
