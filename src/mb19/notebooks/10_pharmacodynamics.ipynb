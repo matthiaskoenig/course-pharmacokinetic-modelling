{
 "cells": [
  {
   "cell_type": "markdown",
   "id": "759ea8f4-dd55-4ad2-be1c-58618214ee94",
   "metadata": {},
   "source": [
    "# Pharmacodynamics\n",
    "\n",
    "Pharmacodynamics is the study of how a drug affects the body. It involves understanding the biochemical, physiological, and molecular effects of drugs, as well as the body's response to them. Pharmacodynamics focuses on receptor binding, post-receptor effects, and chemical interactions. This field helps to explain how drugs work, their mechanisms of action, their therapeutic effects, and any adverse effects they might cause.\n",
    "\n",
    "In pharmacodynamics, key concepts include:\n",
    "\n",
    "1. **Dose-response relationships**: This describes how a body's response changes based on the dose of the drug. The relationship is typically plotted on a graph to understand the point at which the drug's effects plateau, and increasing the dose would not necessarily increase the response but could increase the risk of adverse effects.\n",
    "\n",
    "2. **Therapeutic window**: This is the dosage range in which a drug is expected to be effective without causing unacceptable side effects. It's a balance between efficacy and toxicity.\n",
    "\n",
    "3. **Receptors**: These are typically proteins in the body to which a drug binds to exert its effects. Drug-receptor interaction can stimulate (agonists) or block (antagonists) a physiological response.\n",
    "\n",
    "4. **Pharmacological effect**: This refers to the specific biochemical interaction through which a drug substance produces its pharmacological effect.\n",
    "\n",
    "5. **Drug potency and efficacy**: Potency refers to the amount of drug needed to produce an effect, while efficacy refers to the maximum effect a drug can produce.\n",
    "\n",
    "Pharmacodynamics, along with pharmacokinetics (how the body processes the drug), forms the basis for the development, therapeutic use, and understanding of drugs."
   ]
  },
  {
   "cell_type": "markdown",
   "id": "93907cca-2c63-461a-be9d-6eb1dd36e159",
   "metadata": {},
   "source": [
    "## Pharmacokinetics/pharmacodynamics (PK/PD)\n",
    "In a first step we combine a pharmacokinetics model (concentration timecourse) with a corresponding pharmacodynamic model to describe a desired effect.\n",
    "\n",
    "![Pharmacokinetics and pharmacodynamics](10_pharmacodynamics_pkpd.png)"
   ]
  },
  {
   "cell_type": "code",
   "execution_count": null,
   "id": "39797f52-6920-4dc1-90a4-23c90978e8f6",
   "metadata": {},
   "outputs": [],
   "source": []
  }
 ],
 "metadata": {
  "kernelspec": {
   "display_name": "mb19",
   "language": "python",
   "name": "mb19"
  },
  "language_info": {
   "codemirror_mode": {
    "name": "ipython",
    "version": 3
   },
   "file_extension": ".py",
   "mimetype": "text/x-python",
   "name": "python",
   "nbconvert_exporter": "python",
   "pygments_lexer": "ipython3",
   "version": "3.10.9"
  }
 },
 "nbformat": 4,
 "nbformat_minor": 5
}
